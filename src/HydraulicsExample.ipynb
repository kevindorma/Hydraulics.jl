{
 "cells": [
  {
   "cell_type": "markdown",
   "metadata": {},
   "source": [
    "# Example Calculation\n",
    "## Client: INTERNAL\n",
    "---\n",
    "## Project: develop hydraulic tools\n",
    "## Calc: CALC-002, hydraulic sample calculations\n",
    "---\n",
    "## Authentication\n",
    "> Stamp, Permit\n",
    "---\n",
    "## Revision History\n",
    "|Revision | Date | Description | By | Reviewer|\n",
    "| :-------| :----|:------------|:---|:--------|\n",
    "|       | | DRAFT | KCD |  |\n",
    "|         |          |            |     |    |\n",
    "\n",
    "---"
   ]
  },
  {
   "cell_type": "markdown",
   "metadata": {},
   "source": [
    "## Introduction"
   ]
  },
  {
   "cell_type": "code",
   "execution_count": 56,
   "metadata": {
    "scrolled": true
   },
   "outputs": [],
   "source": [
    "# dependancies\n",
    "using Pkg\n",
    "#Pkg.add(\"DataFrames\")\n",
    "#Pkg.add(\"GridInterpolations\")\n",
    "#Pkg.add(\"Test\")\n",
    "using DataFrames\n",
    "using GridInterpolations\n",
    "#using Test\n",
    "using CSV\n",
    "using ExcelFiles\n"
   ]
  },
  {
   "cell_type": "code",
   "execution_count": 57,
   "metadata": {
    "scrolled": true
   },
   "outputs": [
    {
     "name": "stdout",
     "output_type": "stream",
     "text": [
      "thread = 1 warning: only found 9 / 10 columns around data row: 37. Filling remaining columns with `missing`\n"
     ]
    },
    {
     "name": "stderr",
     "output_type": "stream",
     "text": [
      "WARNING: replacing module Hydraulics.\n"
     ]
    },
    {
     "data": {
      "text/plain": [
       "Main.Hydraulics"
      ]
     },
     "execution_count": 57,
     "metadata": {},
     "output_type": "execute_result"
    }
   ],
   "source": [
    "# load package\n",
    "include(\"/Users/kevin/Jupyter/Hydraulics/Hydraulics_1.jl\") # my PSV library\n",
    "# using Hydraulics\n"
   ]
  },
  {
   "cell_type": "markdown",
   "metadata": {},
   "source": [
    "List a common utility table."
   ]
  },
  {
   "cell_type": "code",
   "execution_count": 58,
   "metadata": {
    "scrolled": false
   },
   "outputs": [],
   "source": [
    "Hydraulics.npsList;"
   ]
  },
  {
   "cell_type": "markdown",
   "metadata": {},
   "source": [
    "## Format of input data\n",
    "Input data is required the following tables.\n",
    "* fluidList: this tabulates fluid density and viscosity for a given fluid. Used for sizing and hydraulic calculations.\n",
    "\n",
    "Sizing\n",
    "* Put the sizing information in the table lineSizing. A spreadsheet is very convenient becauase it allows one to use descriptors for properties (such as fluid type, pipe material, pipe schedule).\n",
    "\n",
    "Hydraulics\n",
    "* Need a table (lines) for describing overall conditions for each line segment.\n",
    "* also need a table (fittingList) for listing all of the piping components in each line segment.\n",
    "\n",
    "A spreadsheet is very convenient for tabulating the input data. Dropdown menus are used to ensure inputs are correct (fluid type, NPS, pipe schedule). Then the hydraulic calculations are performed using the input data in the spreadsheet.\n",
    "\n"
   ]
  },
  {
   "cell_type": "code",
   "execution_count": 59,
   "metadata": {},
   "outputs": [],
   "source": [
    "# these are the specific data\n",
    "lineSizing = DataFrame(load(\"hydraulicDescription_2.xlsx\", \"sizing\"))\n",
    "lineHydraulics = DataFrame(load(\"hydraulicDescription_2.xlsx\", \"hydraulics\"))\n",
    "fluidList = DataFrame(load(\"hydraulicDescription_2.xlsx\", \"fluidList\"))\n",
    "fittingList = DataFrame(load(\"hydraulicDescription_2.xlsx\", \"fittingList\"));"
   ]
  },
  {
   "cell_type": "markdown",
   "metadata": {},
   "source": [
    "## Check input tables for inconsistancies"
   ]
  },
  {
   "cell_type": "code",
   "execution_count": 60,
   "metadata": {
    "scrolled": false
   },
   "outputs": [
    {
     "data": {
      "text/html": [
       "<table class=\"data-frame\"><thead><tr><th></th><th>message</th><th>entry</th><th>Segment</th><th>NPS</th><th>SCHED</th><th>material</th><th>fluidName</th></tr><tr><th></th><th>String</th><th>Int64</th><th>String</th><th>Float64</th><th>String</th><th>String</th><th>String</th></tr></thead><tbody><p>0 rows × 7 columns</p></tbody></table>"
      ],
      "text/latex": [
       "\\begin{tabular}{r|ccccccc}\n",
       "\t& message & entry & Segment & NPS & SCHED & material & fluidName\\\\\n",
       "\t\\hline\n",
       "\t& String & Int64 & String & Float64 & String & String & String\\\\\n",
       "\t\\hline\n",
       "\\end{tabular}\n"
      ],
      "text/plain": [
       "0×7 DataFrame\n"
      ]
     },
     "execution_count": 60,
     "metadata": {},
     "output_type": "execute_result"
    }
   ],
   "source": [
    "Hydraulics.checkLineList(lineHydraulics,fluidList)"
   ]
  },
  {
   "cell_type": "code",
   "execution_count": 61,
   "metadata": {},
   "outputs": [],
   "source": [
    "Hydraulics.pipeRoughness;"
   ]
  },
  {
   "cell_type": "markdown",
   "metadata": {},
   "source": [
    "## Line Sizing\n",
    "\n",
    "The spreadsheet hydraulicDescription_2.xls contains the data needed for line sizing."
   ]
  },
  {
   "cell_type": "code",
   "execution_count": 62,
   "metadata": {
    "scrolled": false
   },
   "outputs": [
    {
     "data": {
      "text/html": [
       "<table class=\"data-frame\"><thead><tr><th></th><th>Segment</th><th>mmDP100</th><th>mmErosion</th><th>mmNeeded</th><th>Schedule</th></tr><tr><th></th><th>String</th><th>Float64</th><th>Float64</th><th>Float64</th><th>String</th></tr></thead><tbody><p>4 rows × 5 columns</p><tr><th>1</th><td>A</td><td>293.178</td><td>314.414</td><td>314.414</td><td>STD</td></tr><tr><th>2</th><td>B</td><td>66.0907</td><td>60.752</td><td>66.0907</td><td>STD</td></tr><tr><th>3</th><td>C</td><td>53.3495</td><td>21.1511</td><td>53.3495</td><td>STD</td></tr><tr><th>4</th><td>D</td><td>44.0575</td><td>27.306</td><td>44.0575</td><td>STD</td></tr></tbody></table>"
      ],
      "text/latex": [
       "\\begin{tabular}{r|ccccc}\n",
       "\t& Segment & mmDP100 & mmErosion & mmNeeded & Schedule\\\\\n",
       "\t\\hline\n",
       "\t& String & Float64 & Float64 & Float64 & String\\\\\n",
       "\t\\hline\n",
       "\t1 & A & 293.178 & 314.414 & 314.414 & STD \\\\\n",
       "\t2 & B & 66.0907 & 60.752 & 66.0907 & STD \\\\\n",
       "\t3 & C & 53.3495 & 21.1511 & 53.3495 & STD \\\\\n",
       "\t4 & D & 44.0575 & 27.306 & 44.0575 & STD \\\\\n",
       "\\end{tabular}\n"
      ],
      "text/plain": [
       "4×5 DataFrame\n",
       "│ Row │ Segment │ mmDP100 │ mmErosion │ mmNeeded │ Schedule │\n",
       "│     │ \u001b[90mString\u001b[39m  │ \u001b[90mFloat64\u001b[39m │ \u001b[90mFloat64\u001b[39m   │ \u001b[90mFloat64\u001b[39m  │ \u001b[90mString\u001b[39m   │\n",
       "├─────┼─────────┼─────────┼───────────┼──────────┼──────────┤\n",
       "│ 1   │ A       │ 293.178 │ 314.414   │ 314.414  │ STD      │\n",
       "│ 2   │ B       │ 66.0907 │ 60.752    │ 66.0907  │ STD      │\n",
       "│ 3   │ C       │ 53.3495 │ 21.1511   │ 53.3495  │ STD      │\n",
       "│ 4   │ D       │ 44.0575 │ 27.306    │ 44.0575  │ STD      │"
      ]
     },
     "execution_count": 62,
     "metadata": {},
     "output_type": "execute_result"
    }
   ],
   "source": [
    "myLineSize = Hydraulics.getLineSize(lineSizing, fluidList)"
   ]
  },
  {
   "cell_type": "code",
   "execution_count": 73,
   "metadata": {
    "scrolled": false
   },
   "outputs": [
    {
     "data": {
      "text/html": [
       "<table class=\"data-frame\"><thead><tr><th></th><th>Segment</th><th>NPS</th><th>Schedule</th><th>IDmm</th></tr><tr><th></th><th>String</th><th>Float64</th><th>String</th><th>Float64</th></tr></thead><tbody><p>4 rows × 4 columns</p><tr><th>1</th><td>A</td><td>14.0</td><td>STD</td><td>336.54</td></tr><tr><th>2</th><td>B</td><td>3.0</td><td>STD</td><td>77.9</td></tr><tr><th>3</th><td>C</td><td>2.5</td><td>STD</td><td>62.6</td></tr><tr><th>4</th><td>D</td><td>2.0</td><td>STD</td><td>52.5</td></tr></tbody></table>"
      ],
      "text/latex": [
       "\\begin{tabular}{r|cccc}\n",
       "\t& Segment & NPS & Schedule & IDmm\\\\\n",
       "\t\\hline\n",
       "\t& String & Float64 & String & Float64\\\\\n",
       "\t\\hline\n",
       "\t1 & A & 14.0 & STD & 336.54 \\\\\n",
       "\t2 & B & 3.0 & STD & 77.9 \\\\\n",
       "\t3 & C & 2.5 & STD & 62.6 \\\\\n",
       "\t4 & D & 2.0 & STD & 52.5 \\\\\n",
       "\\end{tabular}\n"
      ],
      "text/plain": [
       "4×4 DataFrame\n",
       "│ Row │ Segment │ NPS     │ Schedule │ IDmm    │\n",
       "│     │ \u001b[90mString\u001b[39m  │ \u001b[90mFloat64\u001b[39m │ \u001b[90mString\u001b[39m   │ \u001b[90mFloat64\u001b[39m │\n",
       "├─────┼─────────┼─────────┼──────────┼─────────┤\n",
       "│ 1   │ A       │ 14.0    │ STD      │ 336.54  │\n",
       "│ 2   │ B       │ 3.0     │ STD      │ 77.9    │\n",
       "│ 3   │ C       │ 2.5     │ STD      │ 62.6    │\n",
       "│ 4   │ D       │ 2.0     │ STD      │ 52.5    │"
      ]
     },
     "execution_count": 73,
     "metadata": {},
     "output_type": "execute_result"
    }
   ],
   "source": [
    "chosenLineSizes = Hydraulics.getListLargerNPS(myLineSize)"
   ]
  },
  {
   "cell_type": "code",
   "execution_count": 74,
   "metadata": {
    "scrolled": true
   },
   "outputs": [
    {
     "data": {
      "text/html": [
       "<table class=\"data-frame\"><thead><tr><th></th><th>Segment</th><th>NPS</th><th>Schedule</th><th>IDmm</th></tr><tr><th></th><th>String</th><th>Float64</th><th>String</th><th>Float64</th></tr></thead><tbody><p>4 rows × 4 columns</p><tr><th>1</th><td>A</td><td>14.0</td><td>STD</td><td>336.54</td></tr><tr><th>2</th><td>B</td><td>3.0</td><td>STD</td><td>77.9</td></tr><tr><th>3</th><td>C</td><td>3.0</td><td>STD</td><td>77.9</td></tr><tr><th>4</th><td>D</td><td>2.0</td><td>STD</td><td>52.5</td></tr></tbody></table>"
      ],
      "text/latex": [
       "\\begin{tabular}{r|cccc}\n",
       "\t& Segment & NPS & Schedule & IDmm\\\\\n",
       "\t\\hline\n",
       "\t& String & Float64 & String & Float64\\\\\n",
       "\t\\hline\n",
       "\t1 & A & 14.0 & STD & 336.54 \\\\\n",
       "\t2 & B & 3.0 & STD & 77.9 \\\\\n",
       "\t3 & C & 3.0 & STD & 77.9 \\\\\n",
       "\t4 & D & 2.0 & STD & 52.5 \\\\\n",
       "\\end{tabular}\n"
      ],
      "text/plain": [
       "4×4 DataFrame\n",
       "│ Row │ Segment │ NPS     │ Schedule │ IDmm    │\n",
       "│     │ \u001b[90mString\u001b[39m  │ \u001b[90mFloat64\u001b[39m │ \u001b[90mString\u001b[39m   │ \u001b[90mFloat64\u001b[39m │\n",
       "├─────┼─────────┼─────────┼──────────┼─────────┤\n",
       "│ 1   │ A       │ 14.0    │ STD      │ 336.54  │\n",
       "│ 2   │ B       │ 3.0     │ STD      │ 77.9    │\n",
       "│ 3   │ C       │ 3.0     │ STD      │ 77.9    │\n",
       "│ 4   │ D       │ 2.0     │ STD      │ 52.5    │"
      ]
     },
     "execution_count": 74,
     "metadata": {},
     "output_type": "execute_result"
    }
   ],
   "source": [
    "Hydraulics.incrementLineSize(3,chosenLineSizes,1)\n",
    "chosenLineSizes"
   ]
  },
  {
   "cell_type": "code",
   "execution_count": 75,
   "metadata": {
    "scrolled": true
   },
   "outputs": [
    {
     "data": {
      "text/html": [
       "<table class=\"data-frame\"><thead><tr><th></th><th>Segment</th><th>subSegment</th><th>Description</th><th>LineTag</th><th>PnID</th><th>NPS</th><th>Schedule</th><th>Material</th></tr><tr><th></th><th>String</th><th>String</th><th>String</th><th>String</th><th>String</th><th>Float64</th><th>String</th><th>String</th></tr></thead><tbody><p>4 rows × 12 columns (omitted printing of 4 columns)</p><tr><th>1</th><td>A</td><td></td><td>Test line</td><td>L-001</td><td>PID-007</td><td>14.0</td><td>STD</td><td>Commercial steel</td></tr><tr><th>2</th><td>B</td><td></td><td>Testline2</td><td>L-002</td><td>PID-007</td><td>3.0</td><td>STD</td><td>Commercial steel</td></tr><tr><th>3</th><td>C</td><td></td><td>Testline3</td><td>L-003</td><td>PID-007</td><td>3.0</td><td>STD</td><td>Commercial steel</td></tr><tr><th>4</th><td>D</td><td></td><td>Testline3</td><td>L-004</td><td>PID-007</td><td>2.0</td><td>STD</td><td>Commercial steel</td></tr></tbody></table>"
      ],
      "text/latex": [
       "\\begin{tabular}{r|ccccccccc}\n",
       "\t& Segment & subSegment & Description & LineTag & PnID & NPS & Schedule & Material & \\\\\n",
       "\t\\hline\n",
       "\t& String & String & String & String & String & Float64 & String & String & \\\\\n",
       "\t\\hline\n",
       "\t1 & A &  & Test line & L-001 & PID-007 & 14.0 & STD & Commercial steel & $\\dots$ \\\\\n",
       "\t2 & B &  & Testline2 & L-002 & PID-007 & 3.0 & STD & Commercial steel & $\\dots$ \\\\\n",
       "\t3 & C &  & Testline3 & L-003 & PID-007 & 3.0 & STD & Commercial steel & $\\dots$ \\\\\n",
       "\t4 & D &  & Testline3 & L-004 & PID-007 & 2.0 & STD & Commercial steel & $\\dots$ \\\\\n",
       "\\end{tabular}\n"
      ],
      "text/plain": [
       "4×12 DataFrame. Omitted printing of 6 columns\n",
       "│ Row │ Segment │ subSegment │ Description │ LineTag │ PnID    │ NPS     │\n",
       "│     │ \u001b[90mString\u001b[39m  │ \u001b[90mString\u001b[39m     │ \u001b[90mString\u001b[39m      │ \u001b[90mString\u001b[39m  │ \u001b[90mString\u001b[39m  │ \u001b[90mFloat64\u001b[39m │\n",
       "├─────┼─────────┼────────────┼─────────────┼─────────┼─────────┼─────────┤\n",
       "│ 1   │ A       │            │ Test line   │ L-001   │ PID-007 │ 14.0    │\n",
       "│ 2   │ B       │            │ Testline2   │ L-002   │ PID-007 │ 3.0     │\n",
       "│ 3   │ C       │            │ Testline3   │ L-003   │ PID-007 │ 3.0     │\n",
       "│ 4   │ D       │            │ Testline3   │ L-004   │ PID-007 │ 2.0     │"
      ]
     },
     "execution_count": 75,
     "metadata": {},
     "output_type": "execute_result"
    }
   ],
   "source": [
    "Hydraulics.sizing2hydraulics(lineSizing, chosenLineSizes)"
   ]
  },
  {
   "cell_type": "code",
   "execution_count": 67,
   "metadata": {},
   "outputs": [
    {
     "data": {
      "text/html": [
       "<table class=\"data-frame\"><thead><tr><th></th><th>Segment</th><th>fittingType</th><th>num_length_m</th><th>comment</th><th>revision</th></tr><tr><th></th><th>String</th><th>String</th><th>Float64</th><th>String</th><th>String</th></tr></thead><tbody><p>4 rows × 5 columns</p><tr><th>1</th><td>A</td><td>PIPE</td><td>100.0</td><td>from line sizing</td><td>A</td></tr><tr><th>2</th><td>B</td><td>PIPE</td><td>100.0</td><td>from line sizing</td><td>A</td></tr><tr><th>3</th><td>C</td><td>PIPE</td><td>100.0</td><td>from line sizing</td><td>A</td></tr><tr><th>4</th><td>D</td><td>PIPE</td><td>100.0</td><td>from line sizing</td><td>A</td></tr></tbody></table>"
      ],
      "text/latex": [
       "\\begin{tabular}{r|ccccc}\n",
       "\t& Segment & fittingType & num\\_length\\_m & comment & revision\\\\\n",
       "\t\\hline\n",
       "\t& String & String & Float64 & String & String\\\\\n",
       "\t\\hline\n",
       "\t1 & A & PIPE & 100.0 & from line sizing & A \\\\\n",
       "\t2 & B & PIPE & 100.0 & from line sizing & A \\\\\n",
       "\t3 & C & PIPE & 100.0 & from line sizing & A \\\\\n",
       "\t4 & D & PIPE & 100.0 & from line sizing & A \\\\\n",
       "\\end{tabular}\n"
      ],
      "text/plain": [
       "4×5 DataFrame\n",
       "│ Row │ Segment │ fittingType │ num_length_m │ comment          │ revision │\n",
       "│     │ \u001b[90mString\u001b[39m  │ \u001b[90mString\u001b[39m      │ \u001b[90mFloat64\u001b[39m      │ \u001b[90mString\u001b[39m           │ \u001b[90mString\u001b[39m   │\n",
       "├─────┼─────────┼─────────────┼──────────────┼──────────────────┼──────────┤\n",
       "│ 1   │ A       │ PIPE        │ 100.0        │ from line sizing │ A        │\n",
       "│ 2   │ B       │ PIPE        │ 100.0        │ from line sizing │ A        │\n",
       "│ 3   │ C       │ PIPE        │ 100.0        │ from line sizing │ A        │\n",
       "│ 4   │ D       │ PIPE        │ 100.0        │ from line sizing │ A        │"
      ]
     },
     "execution_count": 67,
     "metadata": {},
     "output_type": "execute_result"
    }
   ],
   "source": [
    "Hydraulics.sizing2fittingList(lineSizing, chosenLineSizes)"
   ]
  },
  {
   "cell_type": "markdown",
   "metadata": {},
   "source": [
    "## Hydraulic calculations\n",
    "\n",
    "First, take a look at the input data."
   ]
  },
  {
   "cell_type": "code",
   "execution_count": 76,
   "metadata": {
    "scrolled": false
   },
   "outputs": [
    {
     "data": {
      "text/html": [
       "<table class=\"data-frame\"><thead><tr><th></th><th>fluidName</th><th>rho_kgm3</th><th>mu_mPas</th><th>Comment</th></tr><tr><th></th><th>String</th><th>Float64</th><th>Float64</th><th>String?</th></tr></thead><tbody><p>3 rows × 4 columns</p><tr><th>1</th><td>water</td><td>1000.0</td><td>0.99</td><td><em>missing</em></td></tr><tr><th>2</th><td>propane</td><td>500.0</td><td>0.1</td><td><em>missing</em></td></tr><tr><th>3</th><td>Air_1</td><td>8.47359</td><td>0.015</td><td>700 kPaa - 15 C</td></tr></tbody></table>"
      ],
      "text/latex": [
       "\\begin{tabular}{r|cccc}\n",
       "\t& fluidName & rho\\_kgm3 & mu\\_mPas & Comment\\\\\n",
       "\t\\hline\n",
       "\t& String & Float64 & Float64 & String?\\\\\n",
       "\t\\hline\n",
       "\t1 & water & 1000.0 & 0.99 & \\emph{missing} \\\\\n",
       "\t2 & propane & 500.0 & 0.1 & \\emph{missing} \\\\\n",
       "\t3 & Air\\_1 & 8.47359 & 0.015 & 700 kPaa - 15 C \\\\\n",
       "\\end{tabular}\n"
      ],
      "text/plain": [
       "3×4 DataFrame\n",
       "│ Row │ fluidName │ rho_kgm3 │ mu_mPas │ Comment         │\n",
       "│     │ \u001b[90mString\u001b[39m    │ \u001b[90mFloat64\u001b[39m  │ \u001b[90mFloat64\u001b[39m │ \u001b[90mString?\u001b[39m         │\n",
       "├─────┼───────────┼──────────┼─────────┼─────────────────┤\n",
       "│ 1   │ water     │ 1000.0   │ 0.99    │ \u001b[90mmissing\u001b[39m         │\n",
       "│ 2   │ propane   │ 500.0    │ 0.1     │ \u001b[90mmissing\u001b[39m         │\n",
       "│ 3   │ Air_1     │ 8.47359  │ 0.015   │ 700 kPaa - 15 C │"
      ]
     },
     "execution_count": 76,
     "metadata": {},
     "output_type": "execute_result"
    }
   ],
   "source": [
    "fluidList"
   ]
  },
  {
   "cell_type": "code",
   "execution_count": 69,
   "metadata": {
    "scrolled": true
   },
   "outputs": [
    {
     "data": {
      "text/html": [
       "<table class=\"data-frame\"><thead><tr><th></th><th>Segment</th><th>subSegment</th><th>Description</th><th>LineTag</th><th>PnID</th><th>NPS</th><th>Schedule</th><th>Material</th></tr><tr><th></th><th>String</th><th>String</th><th>String</th><th>String</th><th>String</th><th>Float64</th><th>String</th><th>String</th></tr></thead><tbody><p>2 rows × 12 columns (omitted printing of 4 columns)</p><tr><th>1</th><td>A</td><td>blank</td><td>one line</td><td>L-001</td><td>optional</td><td>10.0</td><td>STD</td><td>Commercial steel</td></tr><tr><th>2</th><td>B</td><td>blank</td><td>another line</td><td>L-002</td><td>optional</td><td>8.0</td><td>STD</td><td>Commercial steel</td></tr></tbody></table>"
      ],
      "text/latex": [
       "\\begin{tabular}{r|ccccccccc}\n",
       "\t& Segment & subSegment & Description & LineTag & PnID & NPS & Schedule & Material & \\\\\n",
       "\t\\hline\n",
       "\t& String & String & String & String & String & Float64 & String & String & \\\\\n",
       "\t\\hline\n",
       "\t1 & A & blank & one line & L-001 & optional & 10.0 & STD & Commercial steel & $\\dots$ \\\\\n",
       "\t2 & B & blank & another line & L-002 & optional & 8.0 & STD & Commercial steel & $\\dots$ \\\\\n",
       "\\end{tabular}\n"
      ],
      "text/plain": [
       "2×12 DataFrame. Omitted printing of 6 columns\n",
       "│ Row │ Segment │ subSegment │ Description  │ LineTag │ PnID     │ NPS     │\n",
       "│     │ \u001b[90mString\u001b[39m  │ \u001b[90mString\u001b[39m     │ \u001b[90mString\u001b[39m       │ \u001b[90mString\u001b[39m  │ \u001b[90mString\u001b[39m   │ \u001b[90mFloat64\u001b[39m │\n",
       "├─────┼─────────┼────────────┼──────────────┼─────────┼──────────┼─────────┤\n",
       "│ 1   │ A       │ blank      │ one line     │ L-001   │ optional │ 10.0    │\n",
       "│ 2   │ B       │ blank      │ another line │ L-002   │ optional │ 8.0     │"
      ]
     },
     "execution_count": 69,
     "metadata": {},
     "output_type": "execute_result"
    }
   ],
   "source": [
    "lineHydraulics"
   ]
  },
  {
   "cell_type": "code",
   "execution_count": 70,
   "metadata": {
    "scrolled": false
   },
   "outputs": [
    {
     "data": {
      "text/html": [
       "<table class=\"data-frame\"><thead><tr><th></th><th>Segment</th><th>subSegment</th><th>fittingType</th><th>num_length_m</th><th>comment</th><th>revision</th></tr><tr><th></th><th>String</th><th>String</th><th>String</th><th>Float64</th><th>String?</th><th>String?</th></tr></thead><tbody><p>3 rows × 6 columns</p><tr><th>1</th><td>A</td><td>blank</td><td>EL45-THD-STD</td><td>2.0</td><td><em>missing</em></td><td><em>missing</em></td></tr><tr><th>2</th><td>A</td><td>blank</td><td>PIPE</td><td>55.0</td><td>smurf</td><td>B</td></tr><tr><th>3</th><td>B</td><td>blank</td><td>PIPE</td><td>100.0</td><td><em>missing</em></td><td><em>missing</em></td></tr></tbody></table>"
      ],
      "text/latex": [
       "\\begin{tabular}{r|cccccc}\n",
       "\t& Segment & subSegment & fittingType & num\\_length\\_m & comment & revision\\\\\n",
       "\t\\hline\n",
       "\t& String & String & String & Float64 & String? & String?\\\\\n",
       "\t\\hline\n",
       "\t1 & A & blank & EL45-THD-STD & 2.0 & \\emph{missing} & \\emph{missing} \\\\\n",
       "\t2 & A & blank & PIPE & 55.0 & smurf & B \\\\\n",
       "\t3 & B & blank & PIPE & 100.0 & \\emph{missing} & \\emph{missing} \\\\\n",
       "\\end{tabular}\n"
      ],
      "text/plain": [
       "3×6 DataFrame. Omitted printing of 1 columns\n",
       "│ Row │ Segment │ subSegment │ fittingType  │ num_length_m │ comment │\n",
       "│     │ \u001b[90mString\u001b[39m  │ \u001b[90mString\u001b[39m     │ \u001b[90mString\u001b[39m       │ \u001b[90mFloat64\u001b[39m      │ \u001b[90mString?\u001b[39m │\n",
       "├─────┼─────────┼────────────┼──────────────┼──────────────┼─────────┤\n",
       "│ 1   │ A       │ blank      │ EL45-THD-STD │ 2.0          │ \u001b[90mmissing\u001b[39m │\n",
       "│ 2   │ A       │ blank      │ PIPE         │ 55.0         │ smurf   │\n",
       "│ 3   │ B       │ blank      │ PIPE         │ 100.0        │ \u001b[90mmissing\u001b[39m │"
      ]
     },
     "execution_count": 70,
     "metadata": {},
     "output_type": "execute_result"
    }
   ],
   "source": [
    "fittingList"
   ]
  },
  {
   "cell_type": "markdown",
   "metadata": {},
   "source": [
    "Get pressure drop for each segment."
   ]
  },
  {
   "cell_type": "code",
   "execution_count": 71,
   "metadata": {},
   "outputs": [
    {
     "data": {
      "text/html": [
       "<table class=\"data-frame\"><thead><tr><th></th><th>Segment</th><th>segmentK</th><th>DPkpa</th><th>inletP</th><th>outletP</th></tr><tr><th></th><th>String</th><th>Float64</th><th>Float64</th><th>Float64</th><th>Float64</th></tr></thead><tbody><p>2 rows × 5 columns</p><tr><th>1</th><td>A</td><td>4.26643</td><td>0.915928</td><td>100.0</td><td>100.916</td></tr><tr><th>2</th><td>B</td><td>7.83933</td><td>2.09113</td><td>100.0</td><td>102.091</td></tr></tbody></table>"
      ],
      "text/latex": [
       "\\begin{tabular}{r|ccccc}\n",
       "\t& Segment & segmentK & DPkpa & inletP & outletP\\\\\n",
       "\t\\hline\n",
       "\t& String & Float64 & Float64 & Float64 & Float64\\\\\n",
       "\t\\hline\n",
       "\t1 & A & 4.26643 & 0.915928 & 100.0 & 100.916 \\\\\n",
       "\t2 & B & 7.83933 & 2.09113 & 100.0 & 102.091 \\\\\n",
       "\\end{tabular}\n"
      ],
      "text/plain": [
       "2×5 DataFrame\n",
       "│ Row │ Segment │ segmentK │ DPkpa    │ inletP  │ outletP │\n",
       "│     │ \u001b[90mString\u001b[39m  │ \u001b[90mFloat64\u001b[39m  │ \u001b[90mFloat64\u001b[39m  │ \u001b[90mFloat64\u001b[39m │ \u001b[90mFloat64\u001b[39m │\n",
       "├─────┼─────────┼──────────┼──────────┼─────────┼─────────┤\n",
       "│ 1   │ A       │ 4.26643  │ 0.915928 │ 100.0   │ 100.916 │\n",
       "│ 2   │ B       │ 7.83933  │ 2.09113  │ 100.0   │ 102.091 │"
      ]
     },
     "execution_count": 71,
     "metadata": {},
     "output_type": "execute_result"
    }
   ],
   "source": [
    "myDP = Hydraulics.getSegmentDP(lineHydraulics,fittingList,fluidList)"
   ]
  },
  {
   "cell_type": "code",
   "execution_count": null,
   "metadata": {},
   "outputs": [],
   "source": []
  }
 ],
 "metadata": {
  "kernelspec": {
   "display_name": "Julia 1.3.1",
   "language": "julia",
   "name": "julia-1.3"
  },
  "language_info": {
   "file_extension": ".jl",
   "mimetype": "application/julia",
   "name": "julia",
   "version": "1.3.1"
  }
 },
 "nbformat": 4,
 "nbformat_minor": 2
}
