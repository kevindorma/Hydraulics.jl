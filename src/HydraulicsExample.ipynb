{
 "cells": [
  {
   "cell_type": "markdown",
   "metadata": {},
   "source": [
    "# Example Calculation\n",
    "## Client: INTERNAL\n",
    "---\n",
    "## Project: develop hydraulic tools\n",
    "## Calc: CALC-002, hydraulic sample calculations\n",
    "---\n",
    "## Authentication\n",
    "> Stamp, Permit\n",
    "---\n",
    "## Revision History\n",
    "|Revision | Date | Description | By | Reviewer|\n",
    "| :-------| :----|:------------|:---|:--------|\n",
    "|       | | DRAFT | KCD |  |\n",
    "|         |          |            |     |    |\n",
    "\n",
    "---"
   ]
  },
  {
   "cell_type": "markdown",
   "metadata": {},
   "source": [
    "## Introduction"
   ]
  },
  {
   "cell_type": "code",
   "execution_count": 1,
   "metadata": {
    "scrolled": true
   },
   "outputs": [
    {
     "name": "stdout",
     "output_type": "stream",
     "text": [
      "\u001b[32m\u001b[1m  Updating\u001b[22m\u001b[39m registry at `~/.julia/registries/General`\n",
      "\u001b[32m\u001b[1m  Updating\u001b[22m\u001b[39m git-repo `https://github.com/JuliaRegistries/General.git`\n",
      "\u001b[?25l\u001b[2K\u001b[?25h\u001b[32m\u001b[1m  Updating\u001b[22m\u001b[39m git-repo `https://github.com/kevindorma/Hydraulics.jl`\n",
      "\u001b[?25l\u001b[2K\u001b[?25h\u001b[32m\u001b[1m  Updating\u001b[22m\u001b[39m git-repo `https://github.com/kevindorma/Hydraulics.jl`\n",
      "\u001b[?25l\u001b[2K\u001b[?25h\u001b[32m\u001b[1m Resolving\u001b[22m\u001b[39m package versions...\n",
      "\u001b[32m\u001b[1m  Updating\u001b[22m\u001b[39m `~/.julia/environments/v1.3/Project.toml`\n",
      "\u001b[90m [no changes]\u001b[39m\n",
      "\u001b[32m\u001b[1m  Updating\u001b[22m\u001b[39m `~/.julia/environments/v1.3/Manifest.toml`\n",
      "\u001b[90m [no changes]\u001b[39m\n"
     ]
    },
    {
     "name": "stderr",
     "output_type": "stream",
     "text": [
      "┌ Info: Precompiling Hydraulics [05f54161-5451-43a6-b8bd-93e4e26dee24]\n",
      "└ @ Base loading.jl:1273\n"
     ]
    }
   ],
   "source": [
    "# dependancies\n",
    "using Pkg\n",
    "#Pkg.add(\"DataFrames\")\n",
    "#Pkg.add(\"GridInterpolations\")\n",
    "#Pkg.add(\"Test\")\n",
    "Pkg.add(PackageSpec(url=\"https://github.com/kevindorma/Hydraulics.jl\"))\n",
    "\n",
    "using DataFrames\n",
    "#using GridInterpolations\n",
    "#using Test\n",
    "using CSV\n",
    "using ExcelFiles\n",
    "#using Hydraulics.jl\n",
    "using Hydraulics\n",
    "\n",
    "\n"
   ]
  },
  {
   "cell_type": "markdown",
   "metadata": {},
   "source": [
    "List a common utility table."
   ]
  },
  {
   "cell_type": "code",
   "execution_count": 2,
   "metadata": {
    "scrolled": false
   },
   "outputs": [
    {
     "data": {
      "text/html": [
       "<table class=\"data-frame\"><thead><tr><th></th><th>NPS</th><th>Schedule</th><th>Idmm</th></tr><tr><th></th><th>Float64</th><th>String</th><th>Float64</th></tr></thead><tbody><p>250 rows × 3 columns</p><tr><th>1</th><td>0.125</td><td>OD</td><td>10.287</td></tr><tr><th>2</th><td>0.25</td><td>OD</td><td>13.716</td></tr><tr><th>3</th><td>0.375</td><td>OD</td><td>17.145</td></tr><tr><th>4</th><td>0.5</td><td>OD</td><td>21.336</td></tr><tr><th>5</th><td>0.75</td><td>OD</td><td>26.67</td></tr><tr><th>6</th><td>1.0</td><td>OD</td><td>33.401</td></tr><tr><th>7</th><td>1.25</td><td>OD</td><td>42.164</td></tr><tr><th>8</th><td>1.5</td><td>OD</td><td>48.26</td></tr><tr><th>9</th><td>2.0</td><td>OD</td><td>60.325</td></tr><tr><th>10</th><td>2.5</td><td>OD</td><td>73.025</td></tr><tr><th>11</th><td>3.0</td><td>OD</td><td>88.9</td></tr><tr><th>12</th><td>3.5</td><td>OD</td><td>101.6</td></tr><tr><th>13</th><td>4.0</td><td>OD</td><td>114.3</td></tr><tr><th>14</th><td>5.0</td><td>OD</td><td>141.3</td></tr><tr><th>15</th><td>6.0</td><td>OD</td><td>168.275</td></tr><tr><th>16</th><td>8.0</td><td>OD</td><td>219.075</td></tr><tr><th>17</th><td>10.0</td><td>OD</td><td>273.05</td></tr><tr><th>18</th><td>12.0</td><td>OD</td><td>323.85</td></tr><tr><th>19</th><td>14.0</td><td>OD</td><td>355.6</td></tr><tr><th>20</th><td>16.0</td><td>OD</td><td>406.4</td></tr><tr><th>21</th><td>18.0</td><td>OD</td><td>457.2</td></tr><tr><th>22</th><td>20.0</td><td>OD</td><td>508.0</td></tr><tr><th>23</th><td>22.0</td><td>OD</td><td>558.8</td></tr><tr><th>24</th><td>24.0</td><td>OD</td><td>609.6</td></tr><tr><th>25</th><td>26.0</td><td>OD</td><td>660.4</td></tr><tr><th>26</th><td>28.0</td><td>OD</td><td>711.2</td></tr><tr><th>27</th><td>30.0</td><td>OD</td><td>762.0</td></tr><tr><th>28</th><td>32.0</td><td>OD</td><td>812.8</td></tr><tr><th>29</th><td>36.0</td><td>OD</td><td>914.4</td></tr><tr><th>30</th><td>42.0</td><td>OD</td><td>1066.8</td></tr><tr><th>&vellip;</th><td>&vellip;</td><td>&vellip;</td><td>&vellip;</td></tr></tbody></table>"
      ],
      "text/latex": [
       "\\begin{tabular}{r|ccc}\n",
       "\t& NPS & Schedule & Idmm\\\\\n",
       "\t\\hline\n",
       "\t& Float64 & String & Float64\\\\\n",
       "\t\\hline\n",
       "\t1 & 0.125 & OD & 10.287 \\\\\n",
       "\t2 & 0.25 & OD & 13.716 \\\\\n",
       "\t3 & 0.375 & OD & 17.145 \\\\\n",
       "\t4 & 0.5 & OD & 21.336 \\\\\n",
       "\t5 & 0.75 & OD & 26.67 \\\\\n",
       "\t6 & 1.0 & OD & 33.401 \\\\\n",
       "\t7 & 1.25 & OD & 42.164 \\\\\n",
       "\t8 & 1.5 & OD & 48.26 \\\\\n",
       "\t9 & 2.0 & OD & 60.325 \\\\\n",
       "\t10 & 2.5 & OD & 73.025 \\\\\n",
       "\t11 & 3.0 & OD & 88.9 \\\\\n",
       "\t12 & 3.5 & OD & 101.6 \\\\\n",
       "\t13 & 4.0 & OD & 114.3 \\\\\n",
       "\t14 & 5.0 & OD & 141.3 \\\\\n",
       "\t15 & 6.0 & OD & 168.275 \\\\\n",
       "\t16 & 8.0 & OD & 219.075 \\\\\n",
       "\t17 & 10.0 & OD & 273.05 \\\\\n",
       "\t18 & 12.0 & OD & 323.85 \\\\\n",
       "\t19 & 14.0 & OD & 355.6 \\\\\n",
       "\t20 & 16.0 & OD & 406.4 \\\\\n",
       "\t21 & 18.0 & OD & 457.2 \\\\\n",
       "\t22 & 20.0 & OD & 508.0 \\\\\n",
       "\t23 & 22.0 & OD & 558.8 \\\\\n",
       "\t24 & 24.0 & OD & 609.6 \\\\\n",
       "\t25 & 26.0 & OD & 660.4 \\\\\n",
       "\t26 & 28.0 & OD & 711.2 \\\\\n",
       "\t27 & 30.0 & OD & 762.0 \\\\\n",
       "\t28 & 32.0 & OD & 812.8 \\\\\n",
       "\t29 & 36.0 & OD & 914.4 \\\\\n",
       "\t30 & 42.0 & OD & 1066.8 \\\\\n",
       "\t$\\dots$ & $\\dots$ & $\\dots$ & $\\dots$ \\\\\n",
       "\\end{tabular}\n"
      ],
      "text/plain": [
       "250×3 DataFrame\n",
       "│ Row │ NPS     │ Schedule │ Idmm    │\n",
       "│     │ \u001b[90mFloat64\u001b[39m │ \u001b[90mString\u001b[39m   │ \u001b[90mFloat64\u001b[39m │\n",
       "├─────┼─────────┼──────────┼─────────┤\n",
       "│ 1   │ 0.125   │ OD       │ 10.287  │\n",
       "│ 2   │ 0.25    │ OD       │ 13.716  │\n",
       "│ 3   │ 0.375   │ OD       │ 17.145  │\n",
       "│ 4   │ 0.5     │ OD       │ 21.336  │\n",
       "│ 5   │ 0.75    │ OD       │ 26.67   │\n",
       "│ 6   │ 1.0     │ OD       │ 33.401  │\n",
       "│ 7   │ 1.25    │ OD       │ 42.164  │\n",
       "│ 8   │ 1.5     │ OD       │ 48.26   │\n",
       "│ 9   │ 2.0     │ OD       │ 60.325  │\n",
       "│ 10  │ 2.5     │ OD       │ 73.025  │\n",
       "⋮\n",
       "│ 240 │ 4.0     │ SCH160   │ 87.3    │\n",
       "│ 241 │ 5.0     │ SCH160   │ 109.5   │\n",
       "│ 242 │ 6.0     │ SCH160   │ 131.7   │\n",
       "│ 243 │ 8.0     │ SCH160   │ 173.1   │\n",
       "│ 244 │ 10.0    │ SCH160   │ 215.9   │\n",
       "│ 245 │ 12.0    │ SCH160   │ 257.3   │\n",
       "│ 246 │ 14.0    │ SCH160   │ 284.18  │\n",
       "│ 247 │ 16.0    │ SCH160   │ 325.42  │\n",
       "│ 248 │ 18.0    │ SCH160   │ 366.72  │\n",
       "│ 249 │ 20.0    │ SCH160   │ 407.98  │\n",
       "│ 250 │ 24.0    │ SCH160   │ 490.52  │"
      ]
     },
     "execution_count": 2,
     "metadata": {},
     "output_type": "execute_result"
    }
   ],
   "source": [
    "Hydraulics.IDmm"
   ]
  },
  {
   "cell_type": "markdown",
   "metadata": {},
   "source": [
    "## Format of input data\n",
    "Input data is required the following tables.\n",
    "* fluidList: this tabulates fluid density and viscosity for a given fluid. Used for sizing and hydraulic calculations.\n",
    "\n",
    "Sizing\n",
    "* Put the sizing information in the table lineSizing. A spreadsheet is very convenient becauase it allows one to use descriptors for properties (such as fluid type, pipe material, pipe schedule).\n",
    "\n",
    "Hydraulics\n",
    "* Need a table (lines) for describing overall conditions for each line segment.\n",
    "* also need a table (fittingList) for listing all of the piping components in each line segment.\n",
    "\n",
    "A spreadsheet is very convenient for tabulating the input data. Dropdown menus are used to ensure inputs are correct (fluid type, NPS, pipe schedule). Then the hydraulic calculations are performed using the input data in the spreadsheet.\n",
    "\n"
   ]
  },
  {
   "cell_type": "code",
   "execution_count": 3,
   "metadata": {},
   "outputs": [],
   "source": [
    "# these are the specific data\n",
    "lineSizing = DataFrame(load(\"inputHydraulicsExample.xlsx\", \"sizing\"))\n",
    "lineHydraulics = DataFrame(load(\"inputHydraulicsExample.xlsx\", \"hydraulics\"))\n",
    "fluidList = DataFrame(load(\"inputHydraulicsExample.xlsx\", \"fluidList\"))\n",
    "fittingList = DataFrame(load(\"inputHydraulicsExample.xlsx\", \"fittingList\"));"
   ]
  },
  {
   "cell_type": "markdown",
   "metadata": {},
   "source": [
    "## Check input tables for inconsistancies"
   ]
  },
  {
   "cell_type": "code",
   "execution_count": 4,
   "metadata": {
    "scrolled": false
   },
   "outputs": [
    {
     "data": {
      "text/html": [
       "<table class=\"data-frame\"><thead><tr><th></th><th>message</th><th>entry</th><th>Segment</th><th>NPS</th><th>SCHED</th><th>material</th><th>fluidName</th></tr><tr><th></th><th>String</th><th>Int64</th><th>String</th><th>Float64</th><th>String</th><th>String</th><th>String</th></tr></thead><tbody><p>2 rows × 7 columns</p><tr><th>1</th><td>Schedule not found in row</td><td>1</td><td>A</td><td>10.0</td><td>STD</td><td>Commercial steel</td><td>water</td></tr><tr><th>2</th><td>Schedule not found in row</td><td>2</td><td>B</td><td>8.0</td><td>STD</td><td>Commercial steel</td><td>propane</td></tr></tbody></table>"
      ],
      "text/latex": [
       "\\begin{tabular}{r|ccccccc}\n",
       "\t& message & entry & Segment & NPS & SCHED & material & fluidName\\\\\n",
       "\t\\hline\n",
       "\t& String & Int64 & String & Float64 & String & String & String\\\\\n",
       "\t\\hline\n",
       "\t1 & Schedule not found in row & 1 & A & 10.0 & STD & Commercial steel & water \\\\\n",
       "\t2 & Schedule not found in row & 2 & B & 8.0 & STD & Commercial steel & propane \\\\\n",
       "\\end{tabular}\n"
      ],
      "text/plain": [
       "2×7 DataFrame. Omitted printing of 2 columns\n",
       "│ Row │ message                   │ entry │ Segment │ NPS     │ SCHED  │\n",
       "│     │ \u001b[90mString\u001b[39m                    │ \u001b[90mInt64\u001b[39m │ \u001b[90mString\u001b[39m  │ \u001b[90mFloat64\u001b[39m │ \u001b[90mString\u001b[39m │\n",
       "├─────┼───────────────────────────┼───────┼─────────┼─────────┼────────┤\n",
       "│ 1   │ Schedule not found in row │ 1     │ A       │ 10.0    │ STD    │\n",
       "│ 2   │ Schedule not found in row │ 2     │ B       │ 8.0     │ STD    │"
      ]
     },
     "execution_count": 4,
     "metadata": {},
     "output_type": "execute_result"
    }
   ],
   "source": [
    "Hydraulics.checkLineList(lineHydraulics,fluidList)"
   ]
  },
  {
   "cell_type": "code",
   "execution_count": 5,
   "metadata": {},
   "outputs": [],
   "source": [
    "Hydraulics.pipeRoughness;"
   ]
  },
  {
   "cell_type": "markdown",
   "metadata": {},
   "source": [
    "## Line Sizing\n",
    "\n",
    "The spreadsheet hydraulicDescription_2.xls contains the data needed for line sizing."
   ]
  },
  {
   "cell_type": "code",
   "execution_count": 6,
   "metadata": {
    "scrolled": false
   },
   "outputs": [
    {
     "data": {
      "text/html": [
       "<table class=\"data-frame\"><thead><tr><th></th><th>Segment</th><th>mmDP100</th><th>mmErosion</th><th>mmNeeded</th><th>Schedule</th></tr><tr><th></th><th>String</th><th>Float64</th><th>Float64</th><th>Float64</th><th>String</th></tr></thead><tbody><p>4 rows × 5 columns</p><tr><th>1</th><td>A</td><td>293.178</td><td>314.414</td><td>314.414</td><td>STD</td></tr><tr><th>2</th><td>B</td><td>66.0907</td><td>60.752</td><td>66.0907</td><td>STD</td></tr><tr><th>3</th><td>C</td><td>53.3495</td><td>21.1511</td><td>53.3495</td><td>STD</td></tr><tr><th>4</th><td>D</td><td>44.0575</td><td>27.306</td><td>44.0575</td><td>STD</td></tr></tbody></table>"
      ],
      "text/latex": [
       "\\begin{tabular}{r|ccccc}\n",
       "\t& Segment & mmDP100 & mmErosion & mmNeeded & Schedule\\\\\n",
       "\t\\hline\n",
       "\t& String & Float64 & Float64 & Float64 & String\\\\\n",
       "\t\\hline\n",
       "\t1 & A & 293.178 & 314.414 & 314.414 & STD \\\\\n",
       "\t2 & B & 66.0907 & 60.752 & 66.0907 & STD \\\\\n",
       "\t3 & C & 53.3495 & 21.1511 & 53.3495 & STD \\\\\n",
       "\t4 & D & 44.0575 & 27.306 & 44.0575 & STD \\\\\n",
       "\\end{tabular}\n"
      ],
      "text/plain": [
       "4×5 DataFrame\n",
       "│ Row │ Segment │ mmDP100 │ mmErosion │ mmNeeded │ Schedule │\n",
       "│     │ \u001b[90mString\u001b[39m  │ \u001b[90mFloat64\u001b[39m │ \u001b[90mFloat64\u001b[39m   │ \u001b[90mFloat64\u001b[39m  │ \u001b[90mString\u001b[39m   │\n",
       "├─────┼─────────┼─────────┼───────────┼──────────┼──────────┤\n",
       "│ 1   │ A       │ 293.178 │ 314.414   │ 314.414  │ STD      │\n",
       "│ 2   │ B       │ 66.0907 │ 60.752    │ 66.0907  │ STD      │\n",
       "│ 3   │ C       │ 53.3495 │ 21.1511   │ 53.3495  │ STD      │\n",
       "│ 4   │ D       │ 44.0575 │ 27.306    │ 44.0575  │ STD      │"
      ]
     },
     "execution_count": 6,
     "metadata": {},
     "output_type": "execute_result"
    }
   ],
   "source": [
    "myLineSize = Hydraulics.getLineSize(lineSizing, fluidList)"
   ]
  },
  {
   "cell_type": "code",
   "execution_count": 7,
   "metadata": {
    "scrolled": false
   },
   "outputs": [
    {
     "data": {
      "text/html": [
       "<table class=\"data-frame\"><thead><tr><th></th><th>Segment</th><th>NPS</th><th>Schedule</th><th>IDmm</th></tr><tr><th></th><th>String</th><th>Float64</th><th>String</th><th>Float64</th></tr></thead><tbody><p>4 rows × 4 columns</p><tr><th>1</th><td>A</td><td>14.0</td><td>STD</td><td>336.54</td></tr><tr><th>2</th><td>B</td><td>3.0</td><td>STD</td><td>77.9</td></tr><tr><th>3</th><td>C</td><td>2.5</td><td>STD</td><td>62.6</td></tr><tr><th>4</th><td>D</td><td>2.0</td><td>STD</td><td>52.5</td></tr></tbody></table>"
      ],
      "text/latex": [
       "\\begin{tabular}{r|cccc}\n",
       "\t& Segment & NPS & Schedule & IDmm\\\\\n",
       "\t\\hline\n",
       "\t& String & Float64 & String & Float64\\\\\n",
       "\t\\hline\n",
       "\t1 & A & 14.0 & STD & 336.54 \\\\\n",
       "\t2 & B & 3.0 & STD & 77.9 \\\\\n",
       "\t3 & C & 2.5 & STD & 62.6 \\\\\n",
       "\t4 & D & 2.0 & STD & 52.5 \\\\\n",
       "\\end{tabular}\n"
      ],
      "text/plain": [
       "4×4 DataFrame\n",
       "│ Row │ Segment │ NPS     │ Schedule │ IDmm    │\n",
       "│     │ \u001b[90mString\u001b[39m  │ \u001b[90mFloat64\u001b[39m │ \u001b[90mString\u001b[39m   │ \u001b[90mFloat64\u001b[39m │\n",
       "├─────┼─────────┼─────────┼──────────┼─────────┤\n",
       "│ 1   │ A       │ 14.0    │ STD      │ 336.54  │\n",
       "│ 2   │ B       │ 3.0     │ STD      │ 77.9    │\n",
       "│ 3   │ C       │ 2.5     │ STD      │ 62.6    │\n",
       "│ 4   │ D       │ 2.0     │ STD      │ 52.5    │"
      ]
     },
     "execution_count": 7,
     "metadata": {},
     "output_type": "execute_result"
    }
   ],
   "source": [
    "chosenLineSizes = Hydraulics.getListLargerNPS(myLineSize)"
   ]
  },
  {
   "cell_type": "code",
   "execution_count": 8,
   "metadata": {
    "scrolled": true
   },
   "outputs": [
    {
     "data": {
      "text/html": [
       "<table class=\"data-frame\"><thead><tr><th></th><th>Segment</th><th>NPS</th><th>Schedule</th><th>IDmm</th></tr><tr><th></th><th>String</th><th>Float64</th><th>String</th><th>Float64</th></tr></thead><tbody><p>4 rows × 4 columns</p><tr><th>1</th><td>A</td><td>14.0</td><td>STD</td><td>336.54</td></tr><tr><th>2</th><td>B</td><td>3.0</td><td>STD</td><td>77.9</td></tr><tr><th>3</th><td>C</td><td>3.0</td><td>STD</td><td>77.9</td></tr><tr><th>4</th><td>D</td><td>2.0</td><td>STD</td><td>52.5</td></tr></tbody></table>"
      ],
      "text/latex": [
       "\\begin{tabular}{r|cccc}\n",
       "\t& Segment & NPS & Schedule & IDmm\\\\\n",
       "\t\\hline\n",
       "\t& String & Float64 & String & Float64\\\\\n",
       "\t\\hline\n",
       "\t1 & A & 14.0 & STD & 336.54 \\\\\n",
       "\t2 & B & 3.0 & STD & 77.9 \\\\\n",
       "\t3 & C & 3.0 & STD & 77.9 \\\\\n",
       "\t4 & D & 2.0 & STD & 52.5 \\\\\n",
       "\\end{tabular}\n"
      ],
      "text/plain": [
       "4×4 DataFrame\n",
       "│ Row │ Segment │ NPS     │ Schedule │ IDmm    │\n",
       "│     │ \u001b[90mString\u001b[39m  │ \u001b[90mFloat64\u001b[39m │ \u001b[90mString\u001b[39m   │ \u001b[90mFloat64\u001b[39m │\n",
       "├─────┼─────────┼─────────┼──────────┼─────────┤\n",
       "│ 1   │ A       │ 14.0    │ STD      │ 336.54  │\n",
       "│ 2   │ B       │ 3.0     │ STD      │ 77.9    │\n",
       "│ 3   │ C       │ 3.0     │ STD      │ 77.9    │\n",
       "│ 4   │ D       │ 2.0     │ STD      │ 52.5    │"
      ]
     },
     "execution_count": 8,
     "metadata": {},
     "output_type": "execute_result"
    }
   ],
   "source": [
    "Hydraulics.incrementLineSize(3,chosenLineSizes,1)\n",
    "chosenLineSizes"
   ]
  },
  {
   "cell_type": "code",
   "execution_count": 9,
   "metadata": {
    "scrolled": true
   },
   "outputs": [
    {
     "data": {
      "text/html": [
       "<table class=\"data-frame\"><thead><tr><th></th><th>Segment</th><th>Description</th><th>LineTag</th><th>PnID</th><th>NPS</th><th>Schedule</th><th>Material</th><th>fluidName</th></tr><tr><th></th><th>String</th><th>String</th><th>String</th><th>String</th><th>Float64</th><th>String</th><th>String</th><th>Any</th></tr></thead><tbody><p>4 rows × 11 columns (omitted printing of 3 columns)</p><tr><th>1</th><td>A</td><td>Test line</td><td>L-001</td><td>PID-007</td><td>14.0</td><td>STD</td><td>Commercial steel</td><td>propane</td></tr><tr><th>2</th><td>B</td><td>Testline2</td><td>L-002</td><td>PID-007</td><td>3.0</td><td>STD</td><td>Commercial steel</td><td>water</td></tr><tr><th>3</th><td>C</td><td>Testline3</td><td>L-003</td><td>PID-007</td><td>3.0</td><td>STD</td><td>Commercial steel</td><td>water</td></tr><tr><th>4</th><td>D</td><td>Testline3</td><td>L-004</td><td>PID-007</td><td>2.0</td><td>STD</td><td>Commercial steel</td><td>water</td></tr></tbody></table>"
      ],
      "text/latex": [
       "\\begin{tabular}{r|ccccccccc}\n",
       "\t& Segment & Description & LineTag & PnID & NPS & Schedule & Material & fluidName & \\\\\n",
       "\t\\hline\n",
       "\t& String & String & String & String & Float64 & String & String & Any & \\\\\n",
       "\t\\hline\n",
       "\t1 & A & Test line & L-001 & PID-007 & 14.0 & STD & Commercial steel & propane & $\\dots$ \\\\\n",
       "\t2 & B & Testline2 & L-002 & PID-007 & 3.0 & STD & Commercial steel & water & $\\dots$ \\\\\n",
       "\t3 & C & Testline3 & L-003 & PID-007 & 3.0 & STD & Commercial steel & water & $\\dots$ \\\\\n",
       "\t4 & D & Testline3 & L-004 & PID-007 & 2.0 & STD & Commercial steel & water & $\\dots$ \\\\\n",
       "\\end{tabular}\n"
      ],
      "text/plain": [
       "4×11 DataFrame. Omitted printing of 5 columns\n",
       "│ Row │ Segment │ Description │ LineTag │ PnID    │ NPS     │ Schedule │\n",
       "│     │ \u001b[90mString\u001b[39m  │ \u001b[90mString\u001b[39m      │ \u001b[90mString\u001b[39m  │ \u001b[90mString\u001b[39m  │ \u001b[90mFloat64\u001b[39m │ \u001b[90mString\u001b[39m   │\n",
       "├─────┼─────────┼─────────────┼─────────┼─────────┼─────────┼──────────┤\n",
       "│ 1   │ A       │ Test line   │ L-001   │ PID-007 │ 14.0    │ STD      │\n",
       "│ 2   │ B       │ Testline2   │ L-002   │ PID-007 │ 3.0     │ STD      │\n",
       "│ 3   │ C       │ Testline3   │ L-003   │ PID-007 │ 3.0     │ STD      │\n",
       "│ 4   │ D       │ Testline3   │ L-004   │ PID-007 │ 2.0     │ STD      │"
      ]
     },
     "execution_count": 9,
     "metadata": {},
     "output_type": "execute_result"
    }
   ],
   "source": [
    "Hydraulics.sizing2hydraulics(lineSizing, chosenLineSizes)"
   ]
  },
  {
   "cell_type": "code",
   "execution_count": 10,
   "metadata": {},
   "outputs": [
    {
     "data": {
      "text/html": [
       "<table class=\"data-frame\"><thead><tr><th></th><th>Segment</th><th>fittingType</th><th>num_length_m</th><th>comment</th><th>revision</th></tr><tr><th></th><th>String</th><th>String</th><th>Float64</th><th>String</th><th>String</th></tr></thead><tbody><p>4 rows × 5 columns</p><tr><th>1</th><td>A</td><td>PIPE</td><td>100.0</td><td>from line sizing</td><td>A</td></tr><tr><th>2</th><td>B</td><td>PIPE</td><td>100.0</td><td>from line sizing</td><td>A</td></tr><tr><th>3</th><td>C</td><td>PIPE</td><td>100.0</td><td>from line sizing</td><td>A</td></tr><tr><th>4</th><td>D</td><td>PIPE</td><td>100.0</td><td>from line sizing</td><td>A</td></tr></tbody></table>"
      ],
      "text/latex": [
       "\\begin{tabular}{r|ccccc}\n",
       "\t& Segment & fittingType & num\\_length\\_m & comment & revision\\\\\n",
       "\t\\hline\n",
       "\t& String & String & Float64 & String & String\\\\\n",
       "\t\\hline\n",
       "\t1 & A & PIPE & 100.0 & from line sizing & A \\\\\n",
       "\t2 & B & PIPE & 100.0 & from line sizing & A \\\\\n",
       "\t3 & C & PIPE & 100.0 & from line sizing & A \\\\\n",
       "\t4 & D & PIPE & 100.0 & from line sizing & A \\\\\n",
       "\\end{tabular}\n"
      ],
      "text/plain": [
       "4×5 DataFrame\n",
       "│ Row │ Segment │ fittingType │ num_length_m │ comment          │ revision │\n",
       "│     │ \u001b[90mString\u001b[39m  │ \u001b[90mString\u001b[39m      │ \u001b[90mFloat64\u001b[39m      │ \u001b[90mString\u001b[39m           │ \u001b[90mString\u001b[39m   │\n",
       "├─────┼─────────┼─────────────┼──────────────┼──────────────────┼──────────┤\n",
       "│ 1   │ A       │ PIPE        │ 100.0        │ from line sizing │ A        │\n",
       "│ 2   │ B       │ PIPE        │ 100.0        │ from line sizing │ A        │\n",
       "│ 3   │ C       │ PIPE        │ 100.0        │ from line sizing │ A        │\n",
       "│ 4   │ D       │ PIPE        │ 100.0        │ from line sizing │ A        │"
      ]
     },
     "execution_count": 10,
     "metadata": {},
     "output_type": "execute_result"
    }
   ],
   "source": [
    "Hydraulics.sizing2fittingList(lineSizing, chosenLineSizes)"
   ]
  },
  {
   "cell_type": "markdown",
   "metadata": {},
   "source": [
    "## Hydraulic calculations\n",
    "\n",
    "First, take a look at the input data."
   ]
  },
  {
   "cell_type": "code",
   "execution_count": 11,
   "metadata": {
    "scrolled": false
   },
   "outputs": [
    {
     "data": {
      "text/html": [
       "<table class=\"data-frame\"><thead><tr><th></th><th>fluidName</th><th>rho_kgm3</th><th>mu_mPas</th><th>Comment</th></tr><tr><th></th><th>String</th><th>Float64</th><th>Float64</th><th>String?</th></tr></thead><tbody><p>3 rows × 4 columns</p><tr><th>1</th><td>water</td><td>1000.0</td><td>0.99</td><td><em>missing</em></td></tr><tr><th>2</th><td>propane</td><td>500.0</td><td>0.1</td><td><em>missing</em></td></tr><tr><th>3</th><td>Air_1</td><td>8.47359</td><td>0.015</td><td>700 kPaa - 15 C</td></tr></tbody></table>"
      ],
      "text/latex": [
       "\\begin{tabular}{r|cccc}\n",
       "\t& fluidName & rho\\_kgm3 & mu\\_mPas & Comment\\\\\n",
       "\t\\hline\n",
       "\t& String & Float64 & Float64 & String?\\\\\n",
       "\t\\hline\n",
       "\t1 & water & 1000.0 & 0.99 & \\emph{missing} \\\\\n",
       "\t2 & propane & 500.0 & 0.1 & \\emph{missing} \\\\\n",
       "\t3 & Air\\_1 & 8.47359 & 0.015 & 700 kPaa - 15 C \\\\\n",
       "\\end{tabular}\n"
      ],
      "text/plain": [
       "3×4 DataFrame\n",
       "│ Row │ fluidName │ rho_kgm3 │ mu_mPas │ Comment         │\n",
       "│     │ \u001b[90mString\u001b[39m    │ \u001b[90mFloat64\u001b[39m  │ \u001b[90mFloat64\u001b[39m │ \u001b[90mString?\u001b[39m         │\n",
       "├─────┼───────────┼──────────┼─────────┼─────────────────┤\n",
       "│ 1   │ water     │ 1000.0   │ 0.99    │ \u001b[90mmissing\u001b[39m         │\n",
       "│ 2   │ propane   │ 500.0    │ 0.1     │ \u001b[90mmissing\u001b[39m         │\n",
       "│ 3   │ Air_1     │ 8.47359  │ 0.015   │ 700 kPaa - 15 C │"
      ]
     },
     "execution_count": 11,
     "metadata": {},
     "output_type": "execute_result"
    }
   ],
   "source": [
    "fluidList"
   ]
  },
  {
   "cell_type": "code",
   "execution_count": 12,
   "metadata": {
    "scrolled": true
   },
   "outputs": [
    {
     "data": {
      "text/html": [
       "<table class=\"data-frame\"><thead><tr><th></th><th>Segment</th><th>Description</th><th>LineTag</th><th>PnID</th><th>NPS</th><th>Schedule</th><th>Material</th><th>fluidName</th></tr><tr><th></th><th>String</th><th>String</th><th>String</th><th>String</th><th>Float64</th><th>String</th><th>String</th><th>String</th></tr></thead><tbody><p>2 rows × 11 columns (omitted printing of 3 columns)</p><tr><th>1</th><td>A</td><td>one line</td><td>L-001</td><td>optional</td><td>10.0</td><td>STD</td><td>Commercial steel</td><td>water</td></tr><tr><th>2</th><td>B</td><td>another line</td><td>L-002</td><td>optional</td><td>8.0</td><td>STD</td><td>Commercial steel</td><td>propane</td></tr></tbody></table>"
      ],
      "text/latex": [
       "\\begin{tabular}{r|ccccccccc}\n",
       "\t& Segment & Description & LineTag & PnID & NPS & Schedule & Material & fluidName & \\\\\n",
       "\t\\hline\n",
       "\t& String & String & String & String & Float64 & String & String & String & \\\\\n",
       "\t\\hline\n",
       "\t1 & A & one line & L-001 & optional & 10.0 & STD & Commercial steel & water & $\\dots$ \\\\\n",
       "\t2 & B & another line & L-002 & optional & 8.0 & STD & Commercial steel & propane & $\\dots$ \\\\\n",
       "\\end{tabular}\n"
      ],
      "text/plain": [
       "2×11 DataFrame. Omitted printing of 5 columns\n",
       "│ Row │ Segment │ Description  │ LineTag │ PnID     │ NPS     │ Schedule │\n",
       "│     │ \u001b[90mString\u001b[39m  │ \u001b[90mString\u001b[39m       │ \u001b[90mString\u001b[39m  │ \u001b[90mString\u001b[39m   │ \u001b[90mFloat64\u001b[39m │ \u001b[90mString\u001b[39m   │\n",
       "├─────┼─────────┼──────────────┼─────────┼──────────┼─────────┼──────────┤\n",
       "│ 1   │ A       │ one line     │ L-001   │ optional │ 10.0    │ STD      │\n",
       "│ 2   │ B       │ another line │ L-002   │ optional │ 8.0     │ STD      │"
      ]
     },
     "execution_count": 12,
     "metadata": {},
     "output_type": "execute_result"
    }
   ],
   "source": [
    "lineHydraulics"
   ]
  },
  {
   "cell_type": "code",
   "execution_count": 13,
   "metadata": {
    "scrolled": false
   },
   "outputs": [
    {
     "data": {
      "text/html": [
       "<table class=\"data-frame\"><thead><tr><th></th><th>Segment</th><th>fittingType</th><th>num_length_m</th><th>comment</th><th>revision</th></tr><tr><th></th><th>String</th><th>String</th><th>Float64</th><th>String?</th><th>String?</th></tr></thead><tbody><p>3 rows × 5 columns</p><tr><th>1</th><td>A</td><td>EL45-THD-STD</td><td>2.0</td><td><em>missing</em></td><td><em>missing</em></td></tr><tr><th>2</th><td>A</td><td>PIPE</td><td>55.0</td><td>smurf</td><td>B</td></tr><tr><th>3</th><td>B</td><td>PIPE</td><td>100.0</td><td><em>missing</em></td><td><em>missing</em></td></tr></tbody></table>"
      ],
      "text/latex": [
       "\\begin{tabular}{r|ccccc}\n",
       "\t& Segment & fittingType & num\\_length\\_m & comment & revision\\\\\n",
       "\t\\hline\n",
       "\t& String & String & Float64 & String? & String?\\\\\n",
       "\t\\hline\n",
       "\t1 & A & EL45-THD-STD & 2.0 & \\emph{missing} & \\emph{missing} \\\\\n",
       "\t2 & A & PIPE & 55.0 & smurf & B \\\\\n",
       "\t3 & B & PIPE & 100.0 & \\emph{missing} & \\emph{missing} \\\\\n",
       "\\end{tabular}\n"
      ],
      "text/plain": [
       "3×5 DataFrame\n",
       "│ Row │ Segment │ fittingType  │ num_length_m │ comment │ revision │\n",
       "│     │ \u001b[90mString\u001b[39m  │ \u001b[90mString\u001b[39m       │ \u001b[90mFloat64\u001b[39m      │ \u001b[90mString?\u001b[39m │ \u001b[90mString?\u001b[39m  │\n",
       "├─────┼─────────┼──────────────┼──────────────┼─────────┼──────────┤\n",
       "│ 1   │ A       │ EL45-THD-STD │ 2.0          │ \u001b[90mmissing\u001b[39m │ \u001b[90mmissing\u001b[39m  │\n",
       "│ 2   │ A       │ PIPE         │ 55.0         │ smurf   │ B        │\n",
       "│ 3   │ B       │ PIPE         │ 100.0        │ \u001b[90mmissing\u001b[39m │ \u001b[90mmissing\u001b[39m  │"
      ]
     },
     "execution_count": 13,
     "metadata": {},
     "output_type": "execute_result"
    }
   ],
   "source": [
    "fittingList"
   ]
  },
  {
   "cell_type": "markdown",
   "metadata": {},
   "source": [
    "Get pressure drop for each segment."
   ]
  },
  {
   "cell_type": "code",
   "execution_count": 14,
   "metadata": {},
   "outputs": [
    {
     "data": {
      "text/html": [
       "<table class=\"data-frame\"><thead><tr><th></th><th>Segment</th><th>segmentK</th><th>DPkpa</th><th>inletP</th><th>outletP</th></tr><tr><th></th><th>String</th><th>Float64</th><th>Float64</th><th>Float64</th><th>Float64</th></tr></thead><tbody><p>2 rows × 5 columns</p><tr><th>1</th><td>A</td><td>4.26643</td><td>0.915928</td><td>100.0</td><td>99.0841</td></tr><tr><th>2</th><td>B</td><td>7.83933</td><td>2.09113</td><td>100.0</td><td>97.9089</td></tr></tbody></table>"
      ],
      "text/latex": [
       "\\begin{tabular}{r|ccccc}\n",
       "\t& Segment & segmentK & DPkpa & inletP & outletP\\\\\n",
       "\t\\hline\n",
       "\t& String & Float64 & Float64 & Float64 & Float64\\\\\n",
       "\t\\hline\n",
       "\t1 & A & 4.26643 & 0.915928 & 100.0 & 99.0841 \\\\\n",
       "\t2 & B & 7.83933 & 2.09113 & 100.0 & 97.9089 \\\\\n",
       "\\end{tabular}\n"
      ],
      "text/plain": [
       "2×5 DataFrame\n",
       "│ Row │ Segment │ segmentK │ DPkpa    │ inletP  │ outletP │\n",
       "│     │ \u001b[90mString\u001b[39m  │ \u001b[90mFloat64\u001b[39m  │ \u001b[90mFloat64\u001b[39m  │ \u001b[90mFloat64\u001b[39m │ \u001b[90mFloat64\u001b[39m │\n",
       "├─────┼─────────┼──────────┼──────────┼─────────┼─────────┤\n",
       "│ 1   │ A       │ 4.26643  │ 0.915928 │ 100.0   │ 99.0841 │\n",
       "│ 2   │ B       │ 7.83933  │ 2.09113  │ 100.0   │ 97.9089 │"
      ]
     },
     "execution_count": 14,
     "metadata": {},
     "output_type": "execute_result"
    }
   ],
   "source": [
    "myDP = Hydraulics.getSegmentDP(lineHydraulics,fittingList,fluidList)"
   ]
  },
  {
   "cell_type": "code",
   "execution_count": null,
   "metadata": {},
   "outputs": [],
   "source": []
  }
 ],
 "metadata": {
  "kernelspec": {
   "display_name": "Julia 1.3.1",
   "language": "julia",
   "name": "julia-1.3"
  },
  "language_info": {
   "file_extension": ".jl",
   "mimetype": "application/julia",
   "name": "julia",
   "version": "1.3.1"
  }
 },
 "nbformat": 4,
 "nbformat_minor": 2
}
